{
 "cells": [
  {
   "cell_type": "code",
   "execution_count": 37,
   "id": "1ccb4239",
   "metadata": {},
   "outputs": [
    {
     "name": "stdout",
     "output_type": "stream",
     "text": [
      "0 1\n",
      "0\n",
      "1 1\n",
      "1\n",
      "1 2\n",
      "1\n",
      "2 3\n",
      "2\n",
      "3 5\n",
      "3\n",
      "5 8\n",
      "5\n",
      "8 13\n",
      "8\n",
      "13 21\n",
      "13\n",
      "21 34\n",
      "21\n",
      "34 55\n",
      "34\n"
     ]
    }
   ],
   "source": [
    "def fibonacci_generator():\n",
    "    a, b = 0, 1\n",
    "    while True:\n",
    "        print(a, b)\n",
    "        yield a\n",
    "        a, b = b, a + b\n",
    "\n",
    "# Example usage:\n",
    "fib_gen = fibonacci_generator()\n",
    "for _ in range(10):\n",
    "    print(next(fib_gen))\n"
   ]
  },
  {
   "cell_type": "code",
   "execution_count": null,
   "id": "792787c8",
   "metadata": {},
   "outputs": [],
   "source": []
  },
  {
   "cell_type": "code",
   "execution_count": 85,
   "id": "98c6fbb4",
   "metadata": {},
   "outputs": [
    {
     "name": "stdout",
     "output_type": "stream",
     "text": [
      "Requirement already satisfied: pyodbc in c:\\users\\futurense\\anaconda3\\lib\\site-packages (4.0.34)\n"
     ]
    }
   ],
   "source": [
    "!pip install pyodbc"
   ]
  },
  {
   "cell_type": "code",
   "execution_count": 11,
   "id": "dc441338",
   "metadata": {},
   "outputs": [],
   "source": [
    "import findspark\n",
    "findspark.init('C:\\spark-3.3.2-bin-hadoop3')"
   ]
  },
  {
   "cell_type": "code",
   "execution_count": 12,
   "id": "0f5d5dbe",
   "metadata": {},
   "outputs": [],
   "source": [
    "import pyodbc\n",
    "import pandas as pd\n",
    "import pyspark\n",
    "import datetime as dt\n",
    "from pyspark.sql import SparkSession\n",
    "from pyspark.sql.types import *\n",
    "from pyspark.sql.functions import round, col, lit, array\n"
   ]
  },
  {
   "cell_type": "code",
   "execution_count": 13,
   "id": "345b4fc5",
   "metadata": {},
   "outputs": [],
   "source": [
    "conn = pyodbc.connect(\n",
    "    \"Driver={SQl Server};\"\n",
    "    \"Server=DESKTOP-SC1ES0U\\SQL_SERVER;\"\n",
    "    \"Database=stock;\"\n",
    "    \"Trusted_Connection=yes;\"\n",
    ")\n"
   ]
  },
  {
   "cell_type": "code",
   "execution_count": 14,
   "id": "fd7be4f7",
   "metadata": {},
   "outputs": [],
   "source": [
    "curs = conn.cursor()"
   ]
  },
  {
   "cell_type": "code",
   "execution_count": 15,
   "id": "29f8d837",
   "metadata": {},
   "outputs": [
    {
     "name": "stdout",
     "output_type": "stream",
     "text": [
      "[('walmart_stock', )]\n"
     ]
    }
   ],
   "source": [
    "# See all the tables\n",
    "\n",
    "tables = \"select name from sys.tables;\"\n",
    "curs.execute(tables)\n",
    "query_results = curs.fetchall()\n",
    "print(query_results)"
   ]
  },
  {
   "cell_type": "code",
   "execution_count": 16,
   "id": "c9ae0e98",
   "metadata": {},
   "outputs": [
    {
     "data": {
      "text/plain": [
       "[('2012-01-03', 59.970001220703125, 61.060001373291016, 59.869998931884766, 60.33000183105469, 12668800, 52.61923599243164),\n",
       " ('2012-01-04', 60.209999084472656, 60.349998474121094, 59.470001220703125, 59.709999084472656, 9593300, 52.07847595214844),\n",
       " ('2012-01-05', 59.349998474121094, 59.619998931884766, 58.369998931884766, 59.41999816894531, 12768200, 51.825538635253906)]"
      ]
     },
     "execution_count": 16,
     "metadata": {},
     "output_type": "execute_result"
    }
   ],
   "source": [
    "# Print 3 tables from walmart_stock table\n",
    "\n",
    "curs.execute(\"select top 3 * from walmart_stock\")\n",
    "\n",
    "query_results = curs.fetchall()\n",
    "query_results"
   ]
  },
  {
   "cell_type": "code",
   "execution_count": 17,
   "id": "ec187717",
   "metadata": {},
   "outputs": [
    {
     "data": {
      "text/html": [
       "<div>\n",
       "<style scoped>\n",
       "    .dataframe tbody tr th:only-of-type {\n",
       "        vertical-align: middle;\n",
       "    }\n",
       "\n",
       "    .dataframe tbody tr th {\n",
       "        vertical-align: top;\n",
       "    }\n",
       "\n",
       "    .dataframe thead th {\n",
       "        text-align: right;\n",
       "    }\n",
       "</style>\n",
       "<table border=\"1\" class=\"dataframe\">\n",
       "  <thead>\n",
       "    <tr style=\"text-align: right;\">\n",
       "      <th></th>\n",
       "      <th>COLUMN_NAME</th>\n",
       "      <th>TYPE_NAME</th>\n",
       "    </tr>\n",
       "  </thead>\n",
       "  <tbody>\n",
       "    <tr>\n",
       "      <th>0</th>\n",
       "      <td>Date</td>\n",
       "      <td>date</td>\n",
       "    </tr>\n",
       "    <tr>\n",
       "      <th>1</th>\n",
       "      <td>Open</td>\n",
       "      <td>float</td>\n",
       "    </tr>\n",
       "    <tr>\n",
       "      <th>2</th>\n",
       "      <td>High</td>\n",
       "      <td>float</td>\n",
       "    </tr>\n",
       "    <tr>\n",
       "      <th>3</th>\n",
       "      <td>Low</td>\n",
       "      <td>float</td>\n",
       "    </tr>\n",
       "    <tr>\n",
       "      <th>4</th>\n",
       "      <td>Close</td>\n",
       "      <td>float</td>\n",
       "    </tr>\n",
       "    <tr>\n",
       "      <th>5</th>\n",
       "      <td>Volume</td>\n",
       "      <td>int</td>\n",
       "    </tr>\n",
       "    <tr>\n",
       "      <th>6</th>\n",
       "      <td>Adj_Close</td>\n",
       "      <td>float</td>\n",
       "    </tr>\n",
       "  </tbody>\n",
       "</table>\n",
       "</div>"
      ],
      "text/plain": [
       "  COLUMN_NAME TYPE_NAME\n",
       "0        Date      date\n",
       "1        Open     float\n",
       "2        High     float\n",
       "3         Low     float\n",
       "4       Close     float\n",
       "5      Volume       int\n",
       "6   Adj_Close     float"
      ]
     },
     "execution_count": 17,
     "metadata": {},
     "output_type": "execute_result"
    }
   ],
   "source": [
    "# Get the Description of table\n",
    "curs = conn.cursor()\n",
    "\n",
    "curs.execute(\"EXEC sp_columns 'walmart_stock'\")\n",
    "query_results = curs.fetchall()\n",
    "column_names = [desc[0] for desc in curs.description]\n",
    "\n",
    "df = pd.DataFrame([list(row) for row in query_results], columns=column_names)\n",
    "\n",
    "df[[\"COLUMN_NAME\",\"TYPE_NAME\"]]"
   ]
  },
  {
   "cell_type": "code",
   "execution_count": 18,
   "id": "98ddefa1",
   "metadata": {
    "scrolled": true
   },
   "outputs": [
    {
     "data": {
      "text/html": [
       "<div>\n",
       "<style scoped>\n",
       "    .dataframe tbody tr th:only-of-type {\n",
       "        vertical-align: middle;\n",
       "    }\n",
       "\n",
       "    .dataframe tbody tr th {\n",
       "        vertical-align: top;\n",
       "    }\n",
       "\n",
       "    .dataframe thead th {\n",
       "        text-align: right;\n",
       "    }\n",
       "</style>\n",
       "<table border=\"1\" class=\"dataframe\">\n",
       "  <thead>\n",
       "    <tr style=\"text-align: right;\">\n",
       "      <th></th>\n",
       "      <th>Date</th>\n",
       "      <th>Open</th>\n",
       "      <th>High</th>\n",
       "      <th>Low</th>\n",
       "      <th>Close</th>\n",
       "      <th>Volume</th>\n",
       "      <th>Adj_Close</th>\n",
       "    </tr>\n",
       "  </thead>\n",
       "  <tbody>\n",
       "    <tr>\n",
       "      <th>0</th>\n",
       "      <td>2012-01-03</td>\n",
       "      <td>59.970001</td>\n",
       "      <td>61.060001</td>\n",
       "      <td>59.869999</td>\n",
       "      <td>60.330002</td>\n",
       "      <td>12668800</td>\n",
       "      <td>52.619236</td>\n",
       "    </tr>\n",
       "    <tr>\n",
       "      <th>1</th>\n",
       "      <td>2012-01-04</td>\n",
       "      <td>60.209999</td>\n",
       "      <td>60.349998</td>\n",
       "      <td>59.470001</td>\n",
       "      <td>59.709999</td>\n",
       "      <td>9593300</td>\n",
       "      <td>52.078476</td>\n",
       "    </tr>\n",
       "    <tr>\n",
       "      <th>2</th>\n",
       "      <td>2012-01-05</td>\n",
       "      <td>59.349998</td>\n",
       "      <td>59.619999</td>\n",
       "      <td>58.369999</td>\n",
       "      <td>59.419998</td>\n",
       "      <td>12768200</td>\n",
       "      <td>51.825539</td>\n",
       "    </tr>\n",
       "    <tr>\n",
       "      <th>3</th>\n",
       "      <td>2012-01-06</td>\n",
       "      <td>59.419998</td>\n",
       "      <td>59.450001</td>\n",
       "      <td>58.869999</td>\n",
       "      <td>59.000000</td>\n",
       "      <td>8069400</td>\n",
       "      <td>51.459221</td>\n",
       "    </tr>\n",
       "    <tr>\n",
       "      <th>4</th>\n",
       "      <td>2012-01-09</td>\n",
       "      <td>59.029999</td>\n",
       "      <td>59.549999</td>\n",
       "      <td>58.919998</td>\n",
       "      <td>59.180000</td>\n",
       "      <td>6679300</td>\n",
       "      <td>51.616215</td>\n",
       "    </tr>\n",
       "  </tbody>\n",
       "</table>\n",
       "</div>"
      ],
      "text/plain": [
       "         Date       Open       High        Low      Close    Volume  Adj_Close\n",
       "0  2012-01-03  59.970001  61.060001  59.869999  60.330002  12668800  52.619236\n",
       "1  2012-01-04  60.209999  60.349998  59.470001  59.709999   9593300  52.078476\n",
       "2  2012-01-05  59.349998  59.619999  58.369999  59.419998  12768200  51.825539\n",
       "3  2012-01-06  59.419998  59.450001  58.869999  59.000000   8069400  51.459221\n",
       "4  2012-01-09  59.029999  59.549999  58.919998  59.180000   6679300  51.616215"
      ]
     },
     "execution_count": 18,
     "metadata": {},
     "output_type": "execute_result"
    }
   ],
   "source": [
    "# Get all data, and print the head\n",
    "\n",
    "curs = conn.cursor()\n",
    "\n",
    "curs.execute(\"select * from walmart_stock\")\n",
    "query_results = curs.fetchall()\n",
    "column_names = [desc[0] for desc in curs.description]\n",
    "\n",
    "df = pd.DataFrame([list(row) for row in query_results], columns=column_names)\n",
    "\n",
    "df.head()"
   ]
  },
  {
   "cell_type": "code",
   "execution_count": 19,
   "id": "d48fadbf",
   "metadata": {
    "scrolled": true
   },
   "outputs": [
    {
     "name": "stdout",
     "output_type": "stream",
     "text": [
      "<class 'pandas.core.frame.DataFrame'>\n",
      "RangeIndex: 1258 entries, 0 to 1257\n",
      "Data columns (total 7 columns):\n",
      " #   Column     Non-Null Count  Dtype  \n",
      "---  ------     --------------  -----  \n",
      " 0   Date       1258 non-null   object \n",
      " 1   Open       1258 non-null   float64\n",
      " 2   High       1258 non-null   float64\n",
      " 3   Low        1258 non-null   float64\n",
      " 4   Close      1258 non-null   float64\n",
      " 5   Volume     1258 non-null   int64  \n",
      " 6   Adj_Close  1258 non-null   float64\n",
      "dtypes: float64(5), int64(1), object(1)\n",
      "memory usage: 68.9+ KB\n"
     ]
    }
   ],
   "source": [
    "df.info()"
   ]
  },
  {
   "cell_type": "code",
   "execution_count": 20,
   "id": "db9350e3",
   "metadata": {
    "scrolled": true
   },
   "outputs": [
    {
     "name": "stdout",
     "output_type": "stream",
     "text": [
      "<class 'pandas.core.frame.DataFrame'>\n",
      "RangeIndex: 1258 entries, 0 to 1257\n",
      "Data columns (total 7 columns):\n",
      " #   Column     Non-Null Count  Dtype         \n",
      "---  ------     --------------  -----         \n",
      " 0   Date       1258 non-null   datetime64[ns]\n",
      " 1   Open       1258 non-null   float64       \n",
      " 2   High       1258 non-null   float64       \n",
      " 3   Low        1258 non-null   float64       \n",
      " 4   Close      1258 non-null   float64       \n",
      " 5   Volume     1258 non-null   int64         \n",
      " 6   Adj_Close  1258 non-null   float64       \n",
      "dtypes: datetime64[ns](1), float64(5), int64(1)\n",
      "memory usage: 68.9 KB\n"
     ]
    }
   ],
   "source": [
    "df=df.astype({'Date':'datetime64'})\n",
    "df.info()"
   ]
  },
  {
   "cell_type": "code",
   "execution_count": 21,
   "id": "7e4799a3",
   "metadata": {
    "scrolled": true
   },
   "outputs": [
    {
     "data": {
      "text/html": [
       "\n",
       "        <div>\n",
       "            <p><b>SparkContext</b></p>\n",
       "\n",
       "            <p><a href=\"http://10.10.203.236:4041\">Spark UI</a></p>\n",
       "\n",
       "            <dl>\n",
       "              <dt>Version</dt>\n",
       "                <dd><code>v3.3.2</code></dd>\n",
       "              <dt>Master</dt>\n",
       "                <dd><code>local[*]</code></dd>\n",
       "              <dt>AppName</dt>\n",
       "                <dd><code>pyspark-shell</code></dd>\n",
       "            </dl>\n",
       "        </div>\n",
       "        "
      ],
      "text/plain": [
       "<SparkContext master=local[*] appName=pyspark-shell>"
      ]
     },
     "execution_count": 21,
     "metadata": {},
     "output_type": "execute_result"
    }
   ],
   "source": [
    "# Create a SparkContext\n",
    "\n",
    "sc = pyspark.SparkContext()\n",
    "sc"
   ]
  },
  {
   "cell_type": "code",
   "execution_count": 22,
   "id": "0a05698e",
   "metadata": {},
   "outputs": [],
   "source": [
    "# Create a SparkSession\n",
    "ss = SparkSession.builder.getOrCreate()\n"
   ]
  },
  {
   "cell_type": "code",
   "execution_count": 23,
   "id": "800cf639",
   "metadata": {},
   "outputs": [],
   "source": [
    "# Define the schema for the Spark DataFrame\n",
    "\n",
    "schema = StructType([\n",
    "    StructField(\"Date\", DateType()),\n",
    "    StructField(\"Open\", DoubleType()),\n",
    "    StructField(\"High\", DoubleType()),\n",
    "    StructField(\"Low\", DoubleType()),\n",
    "    StructField(\"Close\", DoubleType()),\n",
    "    StructField(\"Volume\", IntegerType()),\n",
    "    StructField(\"Adj_Close\", DoubleType())\n",
    "])"
   ]
  },
  {
   "cell_type": "code",
   "execution_count": 24,
   "id": "8601f531",
   "metadata": {
    "scrolled": false
   },
   "outputs": [
    {
     "name": "stderr",
     "output_type": "stream",
     "text": [
      "C:\\spark-3.3.2-bin-hadoop3\\python\\pyspark\\sql\\pandas\\conversion.py:486: FutureWarning: iteritems is deprecated and will be removed in a future version. Use .items instead.\n",
      "  for column, series in pdf.iteritems():\n"
     ]
    }
   ],
   "source": [
    "sdf = ss.createDataFrame(df, schema)"
   ]
  },
  {
   "cell_type": "code",
   "execution_count": 25,
   "id": "28941e04",
   "metadata": {},
   "outputs": [
    {
     "data": {
      "text/plain": [
       "pyspark.sql.dataframe.DataFrame"
      ]
     },
     "execution_count": 25,
     "metadata": {},
     "output_type": "execute_result"
    }
   ],
   "source": [
    "type(sdf)"
   ]
  },
  {
   "cell_type": "code",
   "execution_count": 26,
   "id": "a5aa95dd",
   "metadata": {},
   "outputs": [
    {
     "data": {
      "text/plain": [
       "Row(Date=datetime.date(2012, 1, 3), Open=59.970001220703125, High=61.060001373291016, Low=59.869998931884766, Close=60.33000183105469, Volume=12668800, Adj_Close=52.61923599243164)"
      ]
     },
     "execution_count": 26,
     "metadata": {},
     "output_type": "execute_result"
    }
   ],
   "source": [
    "sdf.head()"
   ]
  },
  {
   "cell_type": "code",
   "execution_count": 27,
   "id": "c8eeab28",
   "metadata": {},
   "outputs": [
    {
     "name": "stdout",
     "output_type": "stream",
     "text": [
      "root\n",
      " |-- Date: date (nullable = true)\n",
      " |-- Open: double (nullable = true)\n",
      " |-- High: double (nullable = true)\n",
      " |-- Low: double (nullable = true)\n",
      " |-- Close: double (nullable = true)\n",
      " |-- Volume: integer (nullable = true)\n",
      " |-- Adj_Close: double (nullable = true)\n",
      "\n"
     ]
    }
   ],
   "source": [
    "sdf.printSchema()"
   ]
  },
  {
   "cell_type": "code",
   "execution_count": 28,
   "id": "abf3a5d5",
   "metadata": {},
   "outputs": [],
   "source": [
    "#Convert Spark DataFrame to RDD\n",
    "\n",
    "rdd = sdf.rdd"
   ]
  },
  {
   "cell_type": "code",
   "execution_count": 29,
   "id": "91a9a516",
   "metadata": {},
   "outputs": [
    {
     "data": {
      "text/plain": [
       "pyspark.rdd.RDD"
      ]
     },
     "execution_count": 29,
     "metadata": {},
     "output_type": "execute_result"
    }
   ],
   "source": [
    "type(rdd)"
   ]
  },
  {
   "cell_type": "code",
   "execution_count": 30,
   "id": "ca4e4cca",
   "metadata": {
    "scrolled": true
   },
   "outputs": [
    {
     "data": {
      "text/plain": [
       "[Row(Date=datetime.date(2012, 1, 3), Open=59.970001220703125, High=61.060001373291016, Low=59.869998931884766, Close=60.33000183105469, Volume=12668800, Adj_Close=52.61923599243164),\n",
       " Row(Date=datetime.date(2012, 1, 4), Open=60.209999084472656, High=60.349998474121094, Low=59.470001220703125, Close=59.709999084472656, Volume=9593300, Adj_Close=52.07847595214844),\n",
       " Row(Date=datetime.date(2012, 1, 5), Open=59.349998474121094, High=59.619998931884766, Low=58.369998931884766, Close=59.41999816894531, Volume=12768200, Adj_Close=51.825538635253906)]"
      ]
     },
     "execution_count": 30,
     "metadata": {},
     "output_type": "execute_result"
    }
   ],
   "source": [
    "rdd.take(3)"
   ]
  },
  {
   "cell_type": "markdown",
   "id": "14aae982",
   "metadata": {},
   "source": [
    "## scenario 1:  \n",
    "### print out first 5 columns ?"
   ]
  },
  {
   "cell_type": "markdown",
   "id": "e5a9e306",
   "metadata": {},
   "source": [
    "## scenario2:\n",
    "### Format all values in the \"describe()\" dataframe to show up to two decimal places.\n"
   ]
  },
  {
   "cell_type": "code",
   "execution_count": 31,
   "id": "4695217c",
   "metadata": {
    "scrolled": true
   },
   "outputs": [
    {
     "name": "stdout",
     "output_type": "stream",
     "text": [
      "Rounded Description:\n",
      "+-------+------+------+------+------+----------+---------+\n",
      "|summary|  Open|  High|   Low| Close|    Volume|Adj_Close|\n",
      "+-------+------+------+------+------+----------+---------+\n",
      "|  count|1258.0|1258.0|1258.0|1258.0|    1258.0|   1258.0|\n",
      "|   mean| 72.36| 72.84| 71.92| 72.39|8222093.48|    67.24|\n",
      "| stddev|  6.77|  6.77|  6.74|  6.76|4519780.84|     6.72|\n",
      "|    min| 56.39| 57.06|  56.3| 56.42| 2094900.0|    50.36|\n",
      "|    max|  90.8| 90.97| 89.25| 90.47| 8.08981E7|    84.91|\n",
      "+-------+------+------+------+------+----------+---------+\n",
      "\n"
     ]
    }
   ],
   "source": [
    "x = sdf.describe()\n",
    "rounded_cols = [round(col(col_name), 2).alias(col_name) if col_name != \"summary\" else col(col_name) for col_name in x.columns]\n",
    "y = x.select(*rounded_cols)\n",
    "print(\"Rounded Description:\")\n",
    "y.show()"
   ]
  },
  {
   "cell_type": "markdown",
   "id": "0391812f",
   "metadata": {},
   "source": [
    "## scenario3:\n",
    "\n",
    "### Create a new dataframe with a column called \"HV Ratio,\" which represents the ratio of the High Price versus the volume of stock traded for a day.\n"
   ]
  },
  {
   "cell_type": "code",
   "execution_count": 32,
   "id": "64a95631",
   "metadata": {
    "scrolled": true
   },
   "outputs": [
    {
     "name": "stdout",
     "output_type": "stream",
     "text": [
      "Starting 2 rows with HV:\n",
      "+----------+------------------+------------------+------------------+------------------+--------+--------------------+\n",
      "|      Date|              Open|              High|               Low|             Close|  Volume|                  HV|\n",
      "+----------+------------------+------------------+------------------+------------------+--------+--------------------+\n",
      "|2012-01-03|59.970001220703125|61.060001373291016|59.869998931884766| 60.33000183105469|12668800|4.819714682786927E-6|\n",
      "|2012-01-04|60.209999084472656|60.349998474121094|59.470001220703125|59.709999084472656| 9593300|6.290848662516662E-6|\n",
      "+----------+------------------+------------------+------------------+------------------+--------+--------------------+\n",
      "only showing top 2 rows\n",
      "\n"
     ]
    }
   ],
   "source": [
    "print(\"Starting 2 rows with HV:\")\n",
    "sdf.withColumn(\"HV\", sdf.High/sdf.Volume).select('Date', 'Open', 'High', 'Low', 'Close', 'Volume', 'HV').show(2)"
   ]
  },
  {
   "cell_type": "code",
   "execution_count": 155,
   "id": "ac06d306",
   "metadata": {},
   "outputs": [
    {
     "data": {
      "text/plain": [
       "4.819714682786927e-06"
      ]
     },
     "execution_count": 155,
     "metadata": {},
     "output_type": "execute_result"
    }
   ],
   "source": [
    "61.060001373291016/12668800"
   ]
  },
  {
   "cell_type": "markdown",
   "id": "afe95bac",
   "metadata": {},
   "source": [
    "## scenario4: \n",
    "### On which day did the stock reach its peak high price?"
   ]
  },
  {
   "cell_type": "code",
   "execution_count": 33,
   "id": "74272a53",
   "metadata": {},
   "outputs": [
    {
     "name": "stdout",
     "output_type": "stream",
     "text": [
      "The Peak High Price was 90.97000122070312 and the date was 2015-01-13.\n"
     ]
    }
   ],
   "source": [
    "rdd1 = rdd.max(lambda row: row['High'])\n",
    "\n",
    "print(f\"The Peak High Price was {rdd1['High']} and the date was {rdd1['Date']}.\")"
   ]
  },
  {
   "cell_type": "markdown",
   "id": "5b16ce6e",
   "metadata": {},
   "source": [
    "## scenario5:\n",
    "\n",
    "### What is the mean value of the \"Close\" column?\n"
   ]
  },
  {
   "cell_type": "code",
   "execution_count": 34,
   "id": "81a00f9a",
   "metadata": {},
   "outputs": [
    {
     "name": "stdout",
     "output_type": "stream",
     "text": [
      "The mean of Close column is: 72.38844997363552\n"
     ]
    }
   ],
   "source": [
    "rdd2 = rdd.map(lambda row: row['Close']).mean()\n",
    "print(\"The mean of Close column is:\", rdd2)"
   ]
  },
  {
   "cell_type": "markdown",
   "id": "05c043cd",
   "metadata": {},
   "source": [
    "## scenario6:\n",
    "\n",
    "### What are the maximum and minimum values of the \"Volume\" column?¶\n"
   ]
  },
  {
   "cell_type": "code",
   "execution_count": 49,
   "id": "93b92052",
   "metadata": {},
   "outputs": [
    {
     "name": "stdout",
     "output_type": "stream",
     "text": [
      "The max of Volume is: 80898100\n",
      "The min of Volume is: 2094900\n"
     ]
    }
   ],
   "source": [
    "rdd3 = rdd.max(lambda row: row['Volume'])\n",
    "rdd4 = rdd.min(lambda row: row['Volume'])\n",
    "\n",
    "print(\"The max of Volume is:\", rdd3['Volume'])\n",
    "print(\"The min of Volume is:\", rdd4['Volume'])"
   ]
  },
  {
   "cell_type": "markdown",
   "id": "47dd630f",
   "metadata": {},
   "source": [
    "## scenario7:\n",
    "\n",
    "### How many days did the \"Close\" column have a value lower than $60?\n"
   ]
  },
  {
   "cell_type": "code",
   "execution_count": 63,
   "id": "a933b153",
   "metadata": {},
   "outputs": [
    {
     "name": "stdout",
     "output_type": "stream",
     "text": [
      "81 Days are have clossing value is less then 60.\n"
     ]
    }
   ],
   "source": [
    "rdd5 = rdd.filter(lambda row: row['Close']<60).count()\n",
    "print(rdd5, \"Days are have clossing value is less then 60.\")"
   ]
  },
  {
   "cell_type": "markdown",
   "id": "09a16de5",
   "metadata": {},
   "source": [
    "## Scenario8:\n",
    "\n",
    "### What percentage of the time did the \"High\" column have a value greater than $80?"
   ]
  },
  {
   "cell_type": "code",
   "execution_count": 68,
   "id": "51a38439",
   "metadata": {},
   "outputs": [
    {
     "name": "stdout",
     "output_type": "stream",
     "text": [
      "9.0 % of time the High value is greater then 80 Dollars.\n"
     ]
    }
   ],
   "source": [
    "rdd6 = rdd.filter(lambda row: row['High']>80).count()/rdd.count()\n",
    "\n",
    "print(round(rdd6,2)*100, \"% of time the High value is greater then 80 Dollars.\")"
   ]
  },
  {
   "cell_type": "markdown",
   "id": "ff337219",
   "metadata": {},
   "source": [
    "## Scenario9:\n",
    "\n",
    "### What is the maximum value of the \"High\" column for each year in the dataset?"
   ]
  },
  {
   "cell_type": "code",
   "execution_count": 85,
   "id": "f63f6bb4",
   "metadata": {},
   "outputs": [
    {
     "name": "stdout",
     "output_type": "stream",
     "text": [
      "Max High of each Year is:\n"
     ]
    },
    {
     "data": {
      "text/plain": [
       "[(2016, 75.19000244140625),\n",
       " (2012, 77.5999984741211),\n",
       " (2013, 81.37000274658203),\n",
       " (2014, 88.08999633789062),\n",
       " (2015, 90.97000122070312)]"
      ]
     },
     "execution_count": 85,
     "metadata": {},
     "output_type": "execute_result"
    }
   ],
   "source": [
    "rdd7 = rdd.map(lambda row: (row['Date'].year,row['High'])).reduceByKey(max)\n",
    "print(\"Max High of each Year is:\")\n",
    "rdd7.collect()"
   ]
  }
 ],
 "metadata": {
  "kernelspec": {
   "display_name": "Python 3 (ipykernel)",
   "language": "python",
   "name": "python3"
  },
  "language_info": {
   "codemirror_mode": {
    "name": "ipython",
    "version": 3
   },
   "file_extension": ".py",
   "mimetype": "text/x-python",
   "name": "python",
   "nbconvert_exporter": "python",
   "pygments_lexer": "ipython3",
   "version": "3.10.9"
  }
 },
 "nbformat": 4,
 "nbformat_minor": 5
}
