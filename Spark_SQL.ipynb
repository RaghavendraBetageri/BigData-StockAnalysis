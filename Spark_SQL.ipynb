{
 "cells": [
  {
   "cell_type": "code",
   "execution_count": 1,
   "id": "06243a98",
   "metadata": {},
   "outputs": [],
   "source": [
    "import findspark\n",
    "import datetime as dt\n",
    "\n",
    "findspark.init('C:\\spark-3.3.2-bin-hadoop3')"
   ]
  },
  {
   "cell_type": "code",
   "execution_count": 2,
   "id": "81438afc",
   "metadata": {},
   "outputs": [],
   "source": [
    "from pyspark.sql import SparkSession, Row\n",
    "from pyspark import SparkContext"
   ]
  },
  {
   "cell_type": "code",
   "execution_count": 3,
   "id": "5d9c7dc4",
   "metadata": {},
   "outputs": [],
   "source": [
    "ss = SparkSession.builder.appName('aggs').getOrCreate()"
   ]
  },
  {
   "cell_type": "code",
   "execution_count": 4,
   "id": "2a79ebaf",
   "metadata": {},
   "outputs": [
    {
     "data": {
      "text/plain": [
       "pyspark.sql.session.SparkSession"
      ]
     },
     "execution_count": 4,
     "metadata": {},
     "output_type": "execute_result"
    }
   ],
   "source": [
    "type(ss)"
   ]
  },
  {
   "cell_type": "code",
   "execution_count": 7,
   "id": "6c9dce5d",
   "metadata": {},
   "outputs": [],
   "source": [
    "sdf = ss.read.csv(\"walmart_stock.csv\", sep=\",\", inferSchema=\"true\", header=\"true\")"
   ]
  },
  {
   "cell_type": "code",
   "execution_count": 8,
   "id": "2176e413",
   "metadata": {},
   "outputs": [
    {
     "name": "stdout",
     "output_type": "stream",
     "text": [
      "root\n",
      " |-- Date: timestamp (nullable = true)\n",
      " |-- Open: double (nullable = true)\n",
      " |-- High: double (nullable = true)\n",
      " |-- Low: double (nullable = true)\n",
      " |-- Close: double (nullable = true)\n",
      " |-- Volume: integer (nullable = true)\n",
      " |-- Adj Close: double (nullable = true)\n",
      "\n"
     ]
    }
   ],
   "source": [
    "sdf.printSchema()"
   ]
  },
  {
   "cell_type": "code",
   "execution_count": 13,
   "id": "926cd94d",
   "metadata": {},
   "outputs": [
    {
     "name": "stdout",
     "output_type": "stream",
     "text": [
      "+-------------------+------------------+---------+---------+------------------+--------+------------------+\n",
      "|               Date|              Open|     High|      Low|             Close|  Volume|         Adj Close|\n",
      "+-------------------+------------------+---------+---------+------------------+--------+------------------+\n",
      "|2012-01-03 00:00:00|         59.970001|61.060001|59.869999|         60.330002|12668800|52.619234999999996|\n",
      "|2012-01-04 00:00:00|60.209998999999996|60.349998|59.470001|59.709998999999996| 9593300|         52.078475|\n",
      "|2012-01-05 00:00:00|         59.349998|59.619999|58.369999|         59.419998|12768200|         51.825539|\n",
      "|2012-01-06 00:00:00|         59.419998|59.450001|58.869999|              59.0| 8069400|          51.45922|\n",
      "|2012-01-09 00:00:00|         59.029999|59.549999|58.919998|             59.18| 6679300|51.616215000000004|\n",
      "+-------------------+------------------+---------+---------+------------------+--------+------------------+\n",
      "only showing top 5 rows\n",
      "\n"
     ]
    }
   ],
   "source": [
    "sdf.show(5)"
   ]
  },
  {
   "cell_type": "markdown",
   "id": "14aae982",
   "metadata": {},
   "source": [
    "## scenario 1:  \n",
    "### print out first 5 columns ?"
   ]
  },
  {
   "cell_type": "code",
   "execution_count": null,
   "id": "0b4087b9",
   "metadata": {},
   "outputs": [],
   "source": []
  },
  {
   "cell_type": "code",
   "execution_count": 11,
   "id": "31719b5d",
   "metadata": {},
   "outputs": [],
   "source": [
    "descr = sdf.describe()"
   ]
  },
  {
   "cell_type": "markdown",
   "id": "e5a9e306",
   "metadata": {},
   "source": [
    "## scenario2:\n",
    "### There are too many decimal places for mean and stddev in the describe() dataframe. Format the numbers to ust show up to two decimal places. Pay careful attention to the datatypes that .describe() returns, we didn't cover how to do this exact formatting, but we covered something very similar. \n"
   ]
  },
  {
   "cell_type": "code",
   "execution_count": 83,
   "id": "cd2fd1ae",
   "metadata": {},
   "outputs": [
    {
     "name": "stdout",
     "output_type": "stream",
     "text": [
      "+-------+------------------+-----------------+-----------------+-----------------+-----------------+-----------------+\n",
      "|summary|              Open|             High|              Low|            Close|           Volume|        Adj Close|\n",
      "+-------+------------------+-----------------+-----------------+-----------------+-----------------+-----------------+\n",
      "|  count|              1258|             1258|             1258|             1258|             1258|             1258|\n",
      "|   mean| 72.35785375357709|72.83938807631165| 71.9186009594594|72.38844998012726|8222093.481717011|67.23883848728146|\n",
      "| stddev|  6.76809024470826|6.768186808159218|6.744075756255496|6.756859163732991|  4519780.8431556|6.722609449996857|\n",
      "|    min|56.389998999999996|        57.060001|        56.299999|        56.419998|          2094900|        50.363689|\n",
      "|    max|         90.800003|        90.970001|            89.25|        90.470001|         80898100|84.91421600000001|\n",
      "+-------+------------------+-----------------+-----------------+-----------------+-----------------+-----------------+\n",
      "\n"
     ]
    }
   ],
   "source": [
    "descr.show()"
   ]
  },
  {
   "cell_type": "code",
   "execution_count": 14,
   "id": "f97e5beb",
   "metadata": {},
   "outputs": [],
   "source": [
    "descr.createOrReplaceTempView(\"describe\")"
   ]
  },
  {
   "cell_type": "code",
   "execution_count": 86,
   "id": "56c19726",
   "metadata": {},
   "outputs": [
    {
     "name": "stdout",
     "output_type": "stream",
     "text": [
      "+-------+------+------+------+------+----------+---------+\n",
      "|summary|  Open|  High|   Low| Close|    Volume|Adj_Close|\n",
      "+-------+------+------+------+------+----------+---------+\n",
      "|  count|1258.0|1258.0|1258.0|1258.0|    1258.0|   1258.0|\n",
      "|   mean| 72.36| 72.84| 71.92| 72.39|8222093.48|    67.24|\n",
      "| stddev|  6.77|  6.77|  6.74|  6.76|4519780.84|     6.72|\n",
      "|    min| 56.39| 57.06|  56.3| 56.42| 2094900.0|    50.36|\n",
      "|    max|  90.8| 90.97| 89.25| 90.47| 8.08981E7|    84.91|\n",
      "+-------+------+------+------+------+----------+---------+\n",
      "\n"
     ]
    }
   ],
   "source": [
    "ss.sql(\"\"\"\n",
    "select  \n",
    "summary,\n",
    "round(Open, 2) Open, \n",
    "round(High, 2) High, \n",
    "round(Low, 2) Low, \n",
    "round(Close, 2) Close, \n",
    "round(Volume, 2) Volume,\n",
    "round(`Adj Close`,2) Adj_Close\n",
    "from describe\n",
    "\"\"\").show()"
   ]
  },
  {
   "cell_type": "markdown",
   "id": "0391812f",
   "metadata": {},
   "source": [
    "## scenario3:\n",
    "\n",
    "### Create a new dataframe with a column called HV Ratio that is the ratio of the High Price versus volume of stock traded for a day.?\n"
   ]
  },
  {
   "cell_type": "code",
   "execution_count": 32,
   "id": "3fa30a4f",
   "metadata": {},
   "outputs": [],
   "source": [
    "sdf.createOrReplaceTempView(\"walmart\")"
   ]
  },
  {
   "cell_type": "code",
   "execution_count": 34,
   "id": "43948325",
   "metadata": {},
   "outputs": [
    {
     "name": "stdout",
     "output_type": "stream",
     "text": [
      "+-------------------+------------------+---------+---------+------------------+--------+------------------+\n",
      "|               Date|              Open|     High|      Low|             Close|  Volume|         Adj Close|\n",
      "+-------------------+------------------+---------+---------+------------------+--------+------------------+\n",
      "|2012-01-03 00:00:00|         59.970001|61.060001|59.869999|         60.330002|12668800|52.619234999999996|\n",
      "|2012-01-04 00:00:00|60.209998999999996|60.349998|59.470001|59.709998999999996| 9593300|         52.078475|\n",
      "|2012-01-05 00:00:00|         59.349998|59.619999|58.369999|         59.419998|12768200|         51.825539|\n",
      "|2012-01-06 00:00:00|         59.419998|59.450001|58.869999|              59.0| 8069400|          51.45922|\n",
      "|2012-01-09 00:00:00|         59.029999|59.549999|58.919998|             59.18| 6679300|51.616215000000004|\n",
      "+-------------------+------------------+---------+---------+------------------+--------+------------------+\n",
      "\n"
     ]
    }
   ],
   "source": [
    "ss.sql(\"select * from walmart limit 5\").show()"
   ]
  },
  {
   "cell_type": "code",
   "execution_count": 42,
   "id": "012c0204",
   "metadata": {
    "scrolled": true
   },
   "outputs": [
    {
     "name": "stdout",
     "output_type": "stream",
     "text": [
      "+-------------------+---------+--------+--------------------+\n",
      "|               Date|     High|  Volume|                  HV|\n",
      "+-------------------+---------+--------+--------------------+\n",
      "|2012-01-03 00:00:00|61.060001|12668800|4.819714653321546E-6|\n",
      "|2012-01-04 00:00:00|60.349998| 9593300|6.290848613094555E-6|\n",
      "|2012-01-05 00:00:00|59.619999|12768200|4.669412994783916E-6|\n",
      "|2012-01-06 00:00:00|59.450001| 8069400|7.367338463826307E-6|\n",
      "|2012-01-09 00:00:00|59.549999| 6679300|8.915604778943901E-6|\n",
      "+-------------------+---------+--------+--------------------+\n",
      "only showing top 5 rows\n",
      "\n"
     ]
    }
   ],
   "source": [
    "sdf2 = ss.sql(\"\"\"\n",
    "select Date, High, Volume, High/Volume as HV from walmart\n",
    "\"\"\")\n",
    "sdf2.show(5)\n"
   ]
  },
  {
   "cell_type": "markdown",
   "id": "afe95bac",
   "metadata": {},
   "source": [
    "## scenario4: \n",
    "### What day had the Peak High in Price?"
   ]
  },
  {
   "cell_type": "code",
   "execution_count": 48,
   "id": "bc312158",
   "metadata": {},
   "outputs": [
    {
     "name": "stdout",
     "output_type": "stream",
     "text": [
      "+-------------------+---------+---------+-----+---------+-------+---------+\n",
      "|               Date|     Open|     High|  Low|    Close| Volume|Adj Close|\n",
      "+-------------------+---------+---------+-----+---------+-------+---------+\n",
      "|2015-01-13 00:00:00|90.800003|90.970001|88.93|89.309998|8215400|83.825448|\n",
      "+-------------------+---------+---------+-----+---------+-------+---------+\n",
      "\n"
     ]
    }
   ],
   "source": [
    "rdd2 = ss.sql(\"select * from walmart where High=(select max(High) from walmart)\")\n",
    "rdd2.show()"
   ]
  },
  {
   "cell_type": "markdown",
   "id": "5b16ce6e",
   "metadata": {},
   "source": [
    "## scenario5:\n",
    "\n",
    "### What is the mean of the Close column?\n"
   ]
  },
  {
   "cell_type": "code",
   "execution_count": 50,
   "id": "638603f6",
   "metadata": {},
   "outputs": [
    {
     "name": "stdout",
     "output_type": "stream",
     "text": [
      "+-----------------+\n",
      "|       Close_mean|\n",
      "+-----------------+\n",
      "|72.38844998012726|\n",
      "+-----------------+\n",
      "\n"
     ]
    }
   ],
   "source": [
    "rdd3 = ss.sql(\"select mean(Close) as Close_mean from walmart\")\n",
    "rdd3.show()"
   ]
  },
  {
   "cell_type": "markdown",
   "id": "05c043cd",
   "metadata": {},
   "source": [
    "## scenario6:\n",
    "\n",
    "### What is the max and min of the Volume column?¶\n"
   ]
  },
  {
   "cell_type": "code",
   "execution_count": 51,
   "id": "ed7810c7",
   "metadata": {},
   "outputs": [
    {
     "name": "stdout",
     "output_type": "stream",
     "text": [
      "+----------+----------+\n",
      "|Max_volume|Min_volume|\n",
      "+----------+----------+\n",
      "|  80898100|   2094900|\n",
      "+----------+----------+\n",
      "\n"
     ]
    }
   ],
   "source": [
    "rdd4 = ss.sql(\"select max(Volume) as Max_volume, min(Volume) as Min_volume from walmart\")\n",
    "rdd4.show()"
   ]
  },
  {
   "cell_type": "markdown",
   "id": "47dd630f",
   "metadata": {},
   "source": [
    "## scenario7:\n",
    "\n",
    "### How many days was the Close lower than 60 dollars?\n"
   ]
  },
  {
   "cell_type": "code",
   "execution_count": 52,
   "id": "9e3d1591",
   "metadata": {},
   "outputs": [
    {
     "name": "stdout",
     "output_type": "stream",
     "text": [
      "+-----------+\n",
      "|Count_Close|\n",
      "+-----------+\n",
      "|         81|\n",
      "+-----------+\n",
      "\n"
     ]
    }
   ],
   "source": [
    "rdd5 = ss.sql(\"select count(*) as Count_Close from walmart where Close<60\")\n",
    "rdd5.show()"
   ]
  },
  {
   "cell_type": "markdown",
   "id": "09a16de5",
   "metadata": {},
   "source": [
    "## Scenario8:\n",
    "\n",
    "### What percentage of the time was the High greater than 80 dollars ?\n",
    "#### In other words, (Number of Days High>80)/(Total Days in the dataset)"
   ]
  },
  {
   "cell_type": "code",
   "execution_count": 56,
   "id": "77bac977",
   "metadata": {
    "scrolled": true
   },
   "outputs": [
    {
     "name": "stdout",
     "output_type": "stream",
     "text": [
      "+-----------------+\n",
      "|          percent|\n",
      "+-----------------+\n",
      "|9.141494435612083|\n",
      "+-----------------+\n",
      "\n"
     ]
    }
   ],
   "source": [
    "rdd6 = ss.sql(\"select (select count(*) as count_80 from walmart where High>80)*100/count(*) as percent from walmart\")\n",
    "rdd6.show()"
   ]
  },
  {
   "cell_type": "markdown",
   "id": "ff337219",
   "metadata": {},
   "source": [
    "## Scenario9:\n",
    "\n",
    "### What is the maximum value of the \"High\" column for each year in the dataset?"
   ]
  },
  {
   "cell_type": "code",
   "execution_count": 59,
   "id": "cbadac9a",
   "metadata": {},
   "outputs": [
    {
     "name": "stdout",
     "output_type": "stream",
     "text": [
      "+----+------------+\n",
      "|Year|Max_per_year|\n",
      "+----+------------+\n",
      "|2015|   90.970001|\n",
      "|2012|   77.599998|\n",
      "|2014|   88.089996|\n",
      "|2016|   75.190002|\n",
      "|2013|   81.370003|\n",
      "+----+------------+\n",
      "\n"
     ]
    }
   ],
   "source": [
    "rdd7 = ss.sql(\"\"\"\n",
    "select distinct year(Date) as Year,max(High) over(partition by year(Date)) as Max_per_year\n",
    "from walmart\n",
    "\"\"\")\n",
    "rdd7.show()"
   ]
  }
 ],
 "metadata": {
  "kernelspec": {
   "display_name": "Python 3 (ipykernel)",
   "language": "python",
   "name": "python3"
  },
  "language_info": {
   "codemirror_mode": {
    "name": "ipython",
    "version": 3
   },
   "file_extension": ".py",
   "mimetype": "text/x-python",
   "name": "python",
   "nbconvert_exporter": "python",
   "pygments_lexer": "ipython3",
   "version": "3.10.9"
  }
 },
 "nbformat": 4,
 "nbformat_minor": 5
}
